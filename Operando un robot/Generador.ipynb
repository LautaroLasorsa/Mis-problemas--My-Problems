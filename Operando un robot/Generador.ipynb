{
 "cells": [
  {
   "cell_type": "markdown",
   "metadata": {},
   "source": [
    "El proceso será el mismo en cada subtarea, crear los casos y correrlos contra la solución de esa subtarea y contra la general (salvo la ultima que va solo la general)"
   ]
  },
  {
   "cell_type": "code",
   "execution_count": 43,
   "metadata": {},
   "outputs": [],
   "source": [
    "from random import randint"
   ]
  },
  {
   "cell_type": "code",
   "execution_count": 44,
   "metadata": {},
   "outputs": [],
   "source": [
    "def getInstruccion():\n",
    "    tipe = randint(1,2)%2 + 1\n",
    "    M = 0\n",
    "    if tipe == 1:\n",
    "        M = randint(1,int(1e9))\n",
    "    else:\n",
    "        M = randint(1,3)\n",
    "    return tipe,M"
   ]
  },
  {
   "cell_type": "code",
   "execution_count": 45,
   "metadata": {},
   "outputs": [],
   "source": [
    "for t in range(2,31):\n",
    "    N = 1000\n",
    "    Q = 1000\n",
    "    f = open('Casos/Subtarea 1/T1C{:02d}.in'.format(t),'w')\n",
    "    f.write(\"{}\\n\".format(N))\n",
    "    for i in range(N):\n",
    "        tipe, M = getInstruccion()\n",
    "        f.write('{} {}\\n'.format(tipe,M))\n",
    "    f.write(\"{}\\n\".format(Q))\n",
    "    for q in range(Q):\n",
    "        tipe = randint(1,2)\n",
    "        if tipe == 1:\n",
    "            L = randint(0,N-1)\n",
    "            R = randint(L,N-1)\n",
    "            f.write('1 {} {}\\n'.format(L,R))\n",
    "        else:\n",
    "            p = randint(0,N-1)\n",
    "            tipe,M = getInstruccion()\n",
    "            f.write('2 {} {} {}\\n'.format(p,tipe,M))\n",
    "    f.close()\n"
   ]
  },
  {
   "cell_type": "code",
   "execution_count": 46,
   "metadata": {},
   "outputs": [],
   "source": [
    "%%bash\n",
    "cd Casos/'Subtarea 1'/\n",
    "for i in *.in \n",
    "do\n",
    "    length=${#i}\n",
    "    output=${i::length-2}out\n",
    "    #(./'../../Solución general' < $i) > $output\n",
    "    (./'../../Subtarea 1' < $i) > temp\n",
    "    (./'../../Solución general 2' < $i) > $output\n",
    "    diff $output temp\n",
    "done\n",
    "rm temp"
   ]
  },
  {
   "cell_type": "code",
   "execution_count": 47,
   "metadata": {},
   "outputs": [],
   "source": [
    "for t in range(1,30):\n",
    "    N = 200000\n",
    "    Q = 200000\n",
    "    f = open('Casos/Subtarea 2/T2C{:02d}.in'.format(t),'w')\n",
    "    f.write(\"{}\\n\".format(N))\n",
    "    for i in range(N):\n",
    "        tipe = 1\n",
    "        M = randint(1,int(1e9))\n",
    "        f.write('{} {}\\n'.format(tipe,M))\n",
    "    f.write(\"{}\\n\".format(Q))\n",
    "    for q in range(Q):\n",
    "        L = randint(0,N-1)\n",
    "        R = randint(L,N-1)\n",
    "        f.write('1 {} {}\\n'.format(L,R))\n",
    "    f.close()"
   ]
  },
  {
   "cell_type": "code",
   "execution_count": 48,
   "metadata": {},
   "outputs": [],
   "source": [
    "%%bash\n",
    "cd Casos/'Subtarea 2'/\n",
    "for i in *.in \n",
    "do\n",
    "    length=${#i}\n",
    "    output=${i::length-2}out\n",
    "    #(./'../../Solución general' < $i) > $output\n",
    "    (./'../../Subtarea 2' < $i) > temp\n",
    "    (./'../../Solución general 2' < $i) > $output\n",
    "    \n",
    "    diff $output temp | head -n 10\n",
    "done\n",
    "rm temp"
   ]
  },
  {
   "cell_type": "code",
   "execution_count": 49,
   "metadata": {},
   "outputs": [],
   "source": [
    "for t in range(1,31):\n",
    "    N = 200000\n",
    "    Q = 200000\n",
    "    f = open('Casos/Subtarea 3/T3C{:02d}.in'.format(t),'w')\n",
    "    f.write(\"{}\\n\".format(N))\n",
    "    for i in range(N):\n",
    "        tipe = 1\n",
    "        M = randint(1,int(1e9))\n",
    "        f.write('{} {}\\n'.format(tipe,M))\n",
    "    f.write(\"{}\\n\".format(Q))\n",
    "    for q in range(Q):\n",
    "        if randint(1,2)==1:\n",
    "\n",
    "            L = randint(0,N-1)\n",
    "            R = randint(L,N-1)\n",
    "            f.write('1 {} {}\\n'.format(L,R))\n",
    "        else:\n",
    "            p = randint(0,N-1)\n",
    "            M = randint(1,int(1e9))\n",
    "            f.write('2 {} 1 {}\\n'.format(p,M))\n",
    "    f.close()"
   ]
  },
  {
   "cell_type": "code",
   "execution_count": 50,
   "metadata": {},
   "outputs": [],
   "source": [
    "%%bash\n",
    "cd Casos/'Subtarea 3'/\n",
    "for i in *.in \n",
    "do\n",
    "    length=${#i}\n",
    "    output=${i::length-2}out\n",
    "    (./'../../Solución general 2' < $i) > $output\n",
    "    (./'../../Subtarea 3' < $i) > temp\n",
    "    diff $output temp | head -n 10\n",
    "done\n",
    "rm temp"
   ]
  },
  {
   "cell_type": "code",
   "execution_count": 51,
   "metadata": {},
   "outputs": [],
   "source": [
    "for t in range(1,31):\n",
    "    N = 200000\n",
    "    Q = 200000\n",
    "    f = open('Casos/Subtarea 4/T4C{:02d}.in'.format(t),'w')\n",
    "    f.write(\"{}\\n\".format(N))\n",
    "    for i in range(N):\n",
    "        tipe = 2\n",
    "        M = randint(1,3)\n",
    "        f.write('{} {}\\n'.format(tipe,M))\n",
    "    f.write(\"{}\\n\".format(Q))\n",
    "    for q in range(Q):\n",
    "        if randint(1,1)==1:\n",
    "\n",
    "            L = randint(0,N-1)\n",
    "            R = randint(L,N-1)\n",
    "            f.write('1 {} {}\\n'.format(L,R))\n",
    "        else:\n",
    "            p = randint(0,N-1)\n",
    "            M = randint(1,3)\n",
    "            f.write('2 {} 1 {}\\n'.format(p,M))\n",
    "    f.close()"
   ]
  },
  {
   "cell_type": "code",
   "execution_count": 52,
   "metadata": {},
   "outputs": [],
   "source": [
    "%%bash\n",
    "cd Casos/'Subtarea 4'/\n",
    "for i in *.in \n",
    "do\n",
    "    length=${#i}\n",
    "    output=${i::length-2}out\n",
    "    (./'../../Solución general 2' < $i) > $output\n",
    "    (./'../../Subtarea 4' < $i) > temp\n",
    "    diff $output temp | head -n 10\n",
    "done\n",
    "rm temp"
   ]
  },
  {
   "cell_type": "code",
   "execution_count": 53,
   "metadata": {},
   "outputs": [],
   "source": [
    "for t in range(1,31):\n",
    "    N = 200000\n",
    "    Q = 200000\n",
    "    f = open('Casos/Subtarea 5/T5C{:02d}.in'.format(t),'w')\n",
    "    f.write(\"{}\\n\".format(N))\n",
    "    for i in range(N):\n",
    "        tipe = 2\n",
    "        M = randint(1,3)\n",
    "        f.write('{} {}\\n'.format(tipe,M))\n",
    "    f.write(\"{}\\n\".format(Q))\n",
    "    for q in range(Q):\n",
    "        if randint(1,2)==1:\n",
    "\n",
    "            L = randint(0,N-1)\n",
    "            R = randint(L,N-1)\n",
    "            f.write('1 {} {}\\n'.format(L,R))\n",
    "        else:\n",
    "            p = randint(0,N-1)\n",
    "            M = randint(1,3)\n",
    "            f.write('2 {} 2 {}\\n'.format(p,M))\n",
    "    f.close()"
   ]
  },
  {
   "cell_type": "code",
   "execution_count": 54,
   "metadata": {},
   "outputs": [],
   "source": [
    "%%bash\n",
    "cd Casos/'Subtarea 5'/\n",
    "for i in *.in \n",
    "do\n",
    "    length=${#i}\n",
    "    output=${i::length-2}out\n",
    "    (./'../../Solución general 2' < $i) > $output\n",
    "    (./'../../Subtarea 5' < $i) > temp\n",
    "    diff $output temp | head -n 10\n",
    "done\n",
    "rm temp"
   ]
  },
  {
   "cell_type": "code",
   "execution_count": 55,
   "metadata": {},
   "outputs": [],
   "source": [
    "for t in range(1,31):\n",
    "    N = 200000\n",
    "    Q = 200000\n",
    "    f = open('Casos/Subtarea 6/T6C{:02d}.in'.format(t),'w')\n",
    "    f.write(\"{}\\n\".format(N))\n",
    "    for i in range(N):\n",
    "        tipe , M = getInstruccion()\n",
    "        f.write('{} {}\\n'.format(tipe,M))\n",
    "    f.write(\"{}\\n\".format(Q))\n",
    "    for q in range(Q):\n",
    "        L = randint(0,N-1)\n",
    "        R = randint(L,N-1)\n",
    "        f.write('1 {} {}\\n'.format(L,R))\n",
    "    f.close()"
   ]
  },
  {
   "cell_type": "code",
   "execution_count": 62,
   "metadata": {},
   "outputs": [],
   "source": [
    "%%bash\n",
    "cd Casos/'Subtarea 6'/\n",
    "for i in *.in \n",
    "do\n",
    "    length=${#i}\n",
    "    output=${i::length-2}out\n",
    "    #(./'../../Solución general 2' < $i) > $output\n",
    "    (./'../../Subtarea 6' < $i) > temp\n",
    "    diff $output temp | head -n 1\n",
    "done\n",
    "rm temp"
   ]
  },
  {
   "cell_type": "code",
   "execution_count": 65,
   "metadata": {},
   "outputs": [],
   "source": [
    "for t in range(1,36):\n",
    "    N = 200000\n",
    "    Q = 200000\n",
    "    f = open('Casos/Subtarea 7/T7C{:02d}.in'.format(t),'w')\n",
    "    f.write(\"{}\\n\".format(N))\n",
    "    for i in range(N):\n",
    "        tipe , M = getInstruccion()\n",
    "        f.write('{} {}\\n'.format(tipe,M))\n",
    "    f.write(\"{}\\n\".format(Q))\n",
    "    for q in range(Q):\n",
    "        if randint(1,2) == 1:\n",
    "            L = randint(0,N-1)\n",
    "            R = randint(L,N-1)\n",
    "            f.write('1 {} {}\\n'.format(L,R))\n",
    "        else:\n",
    "            p = randint(0,N-1)\n",
    "            tipe,M = getInstruccion()\n",
    "            f.write('2 {} {} {}\\n'.format(p,tipe,M))\n",
    "    f.close()"
   ]
  },
  {
   "cell_type": "code",
   "execution_count": 66,
   "metadata": {},
   "outputs": [],
   "source": [
    "%%bash\n",
    "cd Casos/'Subtarea 7'/\n",
    "for i in *.in \n",
    "do\n",
    "    length=${#i}\n",
    "    output=${i::length-2}out\n",
    "    (./'../../Solución general 2' < $i) > $output\n",
    "done"
   ]
  }
 ],
 "metadata": {
  "kernelspec": {
   "display_name": "Python 3.10.8 64-bit (microsoft store)",
   "language": "python",
   "name": "python3"
  },
  "language_info": {
   "codemirror_mode": {
    "name": "ipython",
    "version": 3
   },
   "file_extension": ".py",
   "mimetype": "text/x-python",
   "name": "python",
   "nbconvert_exporter": "python",
   "pygments_lexer": "ipython3",
   "version": "3.10.8"
  },
  "orig_nbformat": 4,
  "vscode": {
   "interpreter": {
    "hash": "f8ca15d83b6fb72cece3edcf60f6aa40d2cbdeb5c60e0f188ff8c7c65828fd00"
   }
  }
 },
 "nbformat": 4,
 "nbformat_minor": 2
}
